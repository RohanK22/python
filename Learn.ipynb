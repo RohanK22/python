{
 "cells": [
  {
   "cell_type": "code",
   "execution_count": 1,
   "metadata": {},
   "outputs": [
    {
     "data": {
      "text/plain": [
       "' Executing Module source files\\n\\n    python -m module [args]\\n'"
      ]
     },
     "execution_count": 1,
     "metadata": {},
     "output_type": "execute_result"
    }
   ],
   "source": [
    "''' \n",
    "    Executing Module source files\n",
    "\n",
    "    python -m module [args]\n",
    "'''\n",
    "\n",
    "# Commandline arguments\n",
    "# python file_name args\n",
    "# import sys\n",
    "# sys.argv"
   ]
  },
  {
   "cell_type": "code",
   "execution_count": 6,
   "metadata": {},
   "outputs": [
    {
     "name": "stdout",
     "output_type": "stream",
     "text": [
      "2.5\n",
      "2\n",
      "4\n",
      "2.663\n"
     ]
    }
   ],
   "source": [
    "''' Numbers '''\n",
    "# Division is not integer division like in most languages\n",
    "print(5/2)\n",
    "print(5//2)\n",
    "\n",
    "# Squaring \n",
    "print(2**2)\n",
    "print(round(2.663453, 3))"
   ]
  },
  {
   "cell_type": "code",
   "execution_count": 20,
   "metadata": {},
   "outputs": [
    {
     "name": "stdout",
     "output_type": "stream",
     "text": [
      "abc'   \n",
      "asdfkjasdf\n",
      "unununium\n"
     ]
    },
    {
     "data": {
      "text/plain": [
       "6"
      ]
     },
     "execution_count": 20,
     "metadata": {},
     "output_type": "execute_result"
    }
   ],
   "source": [
    "''' Strings '''\n",
    "print(\"abc\\'   \\nasdfkjasdf\")\n",
    "print(3 * 'un' + 'ium')\n",
    "\n",
    "string = \"This is a string\"\n",
    "string[0] # First\n",
    "string[-1] # Last\n",
    "string[-2] # Second Last\n",
    "\n",
    "# Slicing\n",
    "word = 'sample'\n",
    "word[0:2]  # characters from position 0 (included) to 2 (excluded)\n",
    "word[:2]   # character from the beginning to position 2 (excluded)\n",
    "word[4:]   # characters from position 4 (included) to the end\n",
    "\n",
    "# Length\n",
    "len(word)"
   ]
  },
  {
   "cell_type": "code",
   "execution_count": 30,
   "metadata": {},
   "outputs": [
    {
     "data": {
      "text/plain": [
       "6"
      ]
     },
     "execution_count": 30,
     "metadata": {},
     "output_type": "execute_result"
    }
   ],
   "source": [
    "''' List '''\n",
    "squares = [1, 4, 9, 16, 25] # can contain different types\n",
    "squares[0]\n",
    "squares[-3:]\n",
    "squares[:]\n",
    "squares.append(5); # Adds to end\n",
    "len(squares) # Length"
   ]
  },
  {
   "cell_type": "code",
   "execution_count": 43,
   "metadata": {},
   "outputs": [
    {
     "name": "stdout",
     "output_type": "stream",
     "text": [
      "Please enter an integer: 54\n",
      "Pos\n",
      "one\n",
      "two\n",
      "three\n",
      "0\n",
      "1\n",
      "2\n",
      "3\n",
      "4\n",
      "[0, 1, 2, 3, 4, 5, 6, 7, 8, 9, 10, 11, 12, 13, 14, 15, 16, 17, 18, 19, 20, 21, 22, 23, 24, 25, 26, 27, 28, 29, 30, 31, 32, 33, 34, 35, 36, 37, 38, 39, 40, 41, 42]\n",
      "0 1 1 2 3 5 8 13 21 34 \n"
     ]
    }
   ],
   "source": [
    "''' Flow of control '''\n",
    "# Getting user input\n",
    "x= int(input('Please enter an integer: '))\n",
    "\n",
    "# If statement\n",
    "if x < 0:\n",
    "    print(\"Neg\")\n",
    "else: \n",
    "    print(\"Pos\")\n",
    "    \n",
    "# For statement\n",
    "words = ['one', 'two', 'three']\n",
    "for w in words:\n",
    "    print(w)\n",
    "    \n",
    "# Iterating over copies vs new collection (dict)\n",
    "# Strategy:  Iterate over a copy\n",
    "'''\n",
    "for user, status in users.copy().items():\n",
    "    if status == 'inactive':\n",
    "        del users[user]\n",
    "\n",
    "# Strategy:  Create a new collection\n",
    "active_users = {}\n",
    "for user, status in users.items():\n",
    "    if status == 'active':\n",
    "        active_users[user] = status\n",
    "'''\n",
    "\n",
    "# Range function\n",
    "for i in range(5):\n",
    "    print(i)\n",
    "\n",
    "sum(range(5,10,2)) # Genereates sequences\n",
    "print(list(range(43))) # Makes a list \n",
    "\n",
    "# break and continue\n",
    "\n",
    "# boolean op: and, or\n",
    "\n",
    "# Function def\n",
    "\n",
    "def fib(n):\n",
    "    a,b = 0,1\n",
    "    while a < n:\n",
    "        print(a, end=' ')\n",
    "        a,b = b, a+b\n",
    "    print()\n",
    "\n",
    "fib(49)\n",
    "\n",
    "# None ~ Null\n",
    "\n",
    "# Default args\n",
    "def ask_ok(prompt, retries=4, reminder='Please try again!'):\n",
    "    while True:\n",
    "        ok = input(prompt)\n",
    "        if ok in ('y', 'ye', 'yes'):\n",
    "            return True\n",
    "        if ok in ('n', 'no', 'nop', 'nope'):\n",
    "            return False\n",
    "        retries = retries - 1\n",
    "        if retries < 0:\n",
    "            raise ValueError('invalid user response')\n",
    "        print(reminder)\n",
    "\n",
    "''' Keyword arguments\n",
    "parrot(1000)                                          # 1 positional argument\n",
    "parrot(voltage=1000)                                  # 1 keyword argument\n",
    "parrot(voltage=1000000, action='VOOOOOM')             # 2 keyword arguments\n",
    "parrot(action='VOOOOOM', voltage=1000000)             # 2 keyword arguments\n",
    "parrot('a million', 'bereft of life', 'jump')         # 3 positional arguments\n",
    "parrot('a thousand', state='pushing up the daisies')  # 1 positional, 1 keyword\n",
    "\n",
    "Can explicity have different types of arguments: keyword or positional\n",
    ">>> def standard_arg(arg):\n",
    "...     print(arg)\n",
    "...\n",
    ">>> def pos_only_arg(arg, /):\n",
    "...     print(arg)\n",
    "...\n",
    ">>> def kwd_only_arg(*, arg):\n",
    "...     print(arg)\n",
    "...\n",
    ">>> def combined_example(pos_only, /, standard, *, kwd_only):\n",
    "...     print(pos_only, standard, kwd_only)\n",
    "\n",
    "'''\n",
    "\n",
    "# Arbitrary number of arguments\n",
    "def write_multiple_items(file, separator, *args):\n",
    "    file.write(separator.join(args))\n",
    "\n"
   ]
  },
  {
   "cell_type": "code",
   "execution_count": 24,
   "metadata": {},
   "outputs": [
    {
     "name": "stdout",
     "output_type": "stream",
     "text": [
      "sape 4139\n",
      "guido 4127\n",
      "jack 4098\n"
     ]
    }
   ],
   "source": [
    "''' Data Structures '''\n",
    "\n",
    "''' List Methods\n",
    "list.append(x)\n",
    "Add an item to the end of the list. Equivalent to a[len(a):] = [x].\n",
    "\n",
    "list.extend(iterable)\n",
    "Extend the list by appending all the items from the iterable. Equivalent to a[len(a):] = iterable.\n",
    "\n",
    "list.insert(i, x)\n",
    "Insert an item at a given position. The first argument is the index of the element before which to insert, so a.insert(0, x) inserts at the front of the list, and a.insert(len(a), x) is equivalent to a.append(x).\n",
    "\n",
    "list.remove(x)\n",
    "Remove the first item from the list whose value is equal to x. It raises a ValueError if there is no such item.\n",
    "\n",
    "list.pop([i])\n",
    "Remove the item at the given position in the list, and return it. If no index is specified, a.pop() removes and returns the last item in the list. (The square brackets around the i in the method signature denote that the parameter is optional, not that you should type square brackets at that position. You will see this notation frequently in the Python Library Reference.)\n",
    "\n",
    "list.clear()\n",
    "Remove all items from the list. Equivalent to del a[:].\n",
    "\n",
    "list.index(x[, start[, end]])\n",
    "Return zero-based index in the list of the first item whose value is equal to x. Raises a ValueError if there is no such item.\n",
    "\n",
    "The optional arguments start and end are interpreted as in the slice notation and are used to limit the search to a particular subsequence of the list. The returned index is computed relative to the beginning of the full sequence rather than the start argument.\n",
    "\n",
    "list.count(x)\n",
    "Return the number of times x appears in the list.\n",
    "\n",
    "list.sort(*, key=None, reverse=False)\n",
    "Sort the items of the list in place (the arguments can be used for sort customization, see sorted() for their explanation).\n",
    "\n",
    "list.reverse()\n",
    "Reverse the elements of the list in place.\n",
    "\n",
    "list.copy()\n",
    "Return a shallow copy of the list. Equivalent to a[:].\n",
    "'''\n",
    "\n",
    "l = []\n",
    "l.append(1)\n",
    "l.pop() # Using list as a Stack\n",
    "\n",
    "# using queues\n",
    "from collections import deque\n",
    "l.append(1)\n",
    "l.append(2)\n",
    "l.append(3)\n",
    "queue = deque(l)\n",
    "queue.append(6)\n",
    "queue.popleft()\n",
    "queue\n",
    "\n",
    "# Easy list creation\n",
    "l = [x**2 for x in range(10)]\n",
    "l\n",
    "[(x, y) for x in [1,2,3] for y in [3,1,4] if x != y]\n",
    "matrix = [\n",
    "    [1, 2, 3, 4],\n",
    "    [5, 6, 7, 8],\n",
    "    [9, 10, 11, 12],\n",
    "]\n",
    "[[row[i] for row in matrix] for i in range(4)] # Nested List Comprehension\n",
    "\n",
    "# del statement\n",
    "l\n",
    "del l[0] # deletes given element\n",
    "l\n",
    "\n",
    "# Tuples: csvs\n",
    "t = 12345, 54321, 'hello!'\n",
    "t\n",
    "#Tuples are immutable: t[0] = 5\n",
    "\n",
    "\n",
    "# Sets\n",
    "''' \n",
    "Python also includes a data type for sets. A set is an unordered collection with no duplicate elements. Basic uses include membership testing and eliminating duplicate entries. Set objects also support mathematical operations like union, intersection, difference, and symmetric difference.\n",
    "Curly braces or the set() function can be used to create sets. Note: to create an empty set you have to use set(), not {}; the latter creates an empty dictionary, a data structure that we discuss in the next section.\n",
    "'''\n",
    "basket = {'apple', 'orange', 'apple', 'pear', 'orange', 'banana'}\n",
    "basket\n",
    "myset = set('abcdef') \n",
    "myset\n",
    "'apple' in basket\n",
    "\n",
    "''' Set Operations\n",
    ">>> a = set('abracadabra')\n",
    ">>> b = set('alacazam')\n",
    ">>> a                                  # unique letters in a\n",
    "{'a', 'r', 'b', 'c', 'd'}\n",
    ">>> a - b                              # letters in a but not in b\n",
    "{'r', 'd', 'b'}\n",
    ">>> a | b                              # letters in a or b or both\n",
    "{'a', 'c', 'r', 'd', 'b', 'm', 'z', 'l'}\n",
    ">>> a & b                              # letters in both a and b\n",
    "{'a', 'c'}\n",
    ">>> a ^ b                              # letters in a or b but not both\n",
    "{'r', 'd', 'b', 'm', 'z', 'l'}\n",
    "\n",
    "{x for x in 'abracadabra' if x not in 'abc'}\n",
    "'''\n",
    "#Dictionaries\n",
    "''' Operations \n",
    ">>> tel = {'jack': 4098, 'sape': 4139}\n",
    ">>> tel['guido'] = 4127\n",
    ">>> tel\n",
    "{'jack': 4098, 'sape': 4139, 'guido': 4127}\n",
    ">>> tel['jack']\n",
    "4098\n",
    ">>> del tel['sape']\n",
    ">>> tel['irv'] = 4127\n",
    ">>> tel\n",
    "{'jack': 4098, 'guido': 4127, 'irv': 4127}\n",
    ">>> list(tel)\n",
    "['jack', 'guido', 'irv']\n",
    ">>> sorted(tel)\n",
    "['guido', 'irv', 'jack']\n",
    ">>> 'guido' in tel\n",
    "True\n",
    ">>> 'jack' not in tel\n",
    "False\n",
    ">>> dict([('sape', 4139), ('guido', 4127), ('jack', 4098)])\n",
    "{'sape': 4139, 'guido': 4127, 'jack': 4098}\n",
    "'''\n",
    "{x: x**2 for x in (2, 4, 6)}\n",
    "d = dict(sape=4139, guido=4127, jack=4098)\n",
    "\n",
    "# Looping \n",
    "for name, num in d.items():\n",
    "    print(name,num)"
   ]
  },
  {
   "cell_type": "code",
   "execution_count": null,
   "metadata": {},
   "outputs": [],
   "source": [
    "''' Modules '''\n",
    "\n"
   ]
  }
 ],
 "metadata": {
  "kernelspec": {
   "display_name": "Python 3",
   "language": "python",
   "name": "python3"
  },
  "language_info": {
   "codemirror_mode": {
    "name": "ipython",
    "version": 3
   },
   "file_extension": ".py",
   "mimetype": "text/x-python",
   "name": "python",
   "nbconvert_exporter": "python",
   "pygments_lexer": "ipython3",
   "version": "3.7.6"
  }
 },
 "nbformat": 4,
 "nbformat_minor": 4
}
